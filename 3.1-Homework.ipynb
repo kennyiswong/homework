{
 "cells": [
  {
   "attachments": {},
   "cell_type": "markdown",
   "metadata": {},
   "source": [
    "# 3.1 Python Homework\n",
    "\n",
    "## Data Types\n",
    "\n",
    "1. Create a file and name it 3.1-Homework\n",
    "    - A Jupyter Notebook file would probably work best as you would want to type some answers to questions and code for this homework.\n",
    "    - Decorate / beautify your markdown in any way your like.\n",
    "\n",
    "<br>\n",
    "\n",
    "2. Open a Markdown cell in your Jupyter Notebook and answer these questions please:\n",
    "    - Use a markdown numbered list to answer these questions.\n",
    "    - What is an algorithm?\n",
    "    - Why is Python considered to be a high-level language?\n",
    "    - Is Python a Natural or a Formal language?\n",
    "    - Variable names may not start with certain characters - name two.\n",
    "    - WHat is a Semantic error?\n",
    "    - What is the #1 rule of coding / debugging?\n",
    "    - list 5 Python reserved words.\n",
    "    - add and name, a web link for any Python coding article, in your markdown cell\n",
    "\n",
    "<br>\n",
    "\n",
    "3. Open a code cell in your Jupyter Notebook and write the following code:\n",
    "    - Write a multi-line comment with your name, favorite food, and dream job on 3 different lines.\n",
    "    - assign 5 different data types to 5 different variables. At least one datatype must be a string.\n",
    "    - print the length of your string.\n",
    "    - print the the index value of the 4th character in your string.\n",
    "    - create a new variable called savvy, and assign it the string with this phrase \"Learning Data Analytics and Python is Awesome!\"\n",
    "    - return a range of characters that slices the above string from the beginning of  \"ing\" up to before \"and\"\n",
    "    - Replace \"Awesome\" with \"great\" in the string\n",
    "    - Test and print the savvy string to see it contains \"Python\"\n",
    "    - Create and assign 3 more variables called name, age and length using the multi-variable  naming method.\n",
    "    - Format a new string called 'miniBio' using variables in curly brackets to complete this phrase...\n",
    "            \"Hi my name is (name), I am (tall) and (so) old today.\"\n",
    "    - print 'miniBio'\n",
    "    - cast and print the age variable to a float.\n",
    "\n",
    "<br>\n",
    "\n",
    "4. Save your file in your homework folder, and push it to GitHub.\n",
    "    - Once you have complete all your homework for the week, create a ticket to let the TAs know you have completed it.\n",
    "    - Remember to add the link to you homework, to the ticket.\n",
    "\n",
    "<br>\n",
    "\n",
    "## When done with homework\n",
    "\n",
    "When homework has been completed, do the following...\n",
    "\n",
    "- Make sure your homework file is well named\n",
    "- Add the homework to your Homework folder\n",
    "- Use  git add, git commit, and git push to upload your homework changes to GitHub in the cloud\n",
    "- When all you homework has been completed, create a ticket in Jira to indicate that your Homework is ready for review\n"
   ]
  },
  {
   "attachments": {},
   "cell_type": "markdown",
   "metadata": {},
   "source": [
    "  1. What are Algorithms?\n",
    "\n",
    "      * <font color=green>An algorithm is a series of steps to solve a problem at hand.</font>\n",
    "\n",
    "  1. Why is Python considered to be a high-level language?\n",
    "\n",
    "      * <font color=green>Because Python takes less time to write, they are shorter and easier to read, and they are more likely to be correct/error free when we run them.</font>\n",
    "\n",
    "  1. Is Python a Natural or a Formal language?\n",
    "\n",
    "      * <font color=green>Python is formal language designed by people. There are formal rules about grammar, syntax, and punctuation.</font>\n",
    "\n",
    "  1. Variable names may not start with certain characters - name two.\n",
    "\n",
    "      * <font color=green>A variable name cannot start with a number or special character other than the underscore character.</font>\n",
    "   \n",
    "  1. What is a Semantic error?\n",
    "\n",
    "      * <font color=green>Code is grammatically correct but doesn't make any sense; it does not produce the expected results.</font>\n",
    "\n",
    "  1. What is the #1 rule of coding / debugging\n",
    "\n",
    "      * <font color=green>The #1 Rule: Complexity is the enemy of efficiency!</font>\n",
    "      \n",
    "  1. list 5 Python reserved words.\n",
    "\n",
    "      * <font color=green>True, False, None, and, or, not, is, if, elif, else, while, for, break, continue, return, in, yield, try, except, finally, raise, assert, etc ...</font>\n",
    "\n",
    "  1. add and name, a web link for any Python coding article, in your markdown cell\n",
    "\n",
    "      * <font color=green>[What is Python?](https://www.python.org/doc/essays/blurb/)</font>"
   ]
  },
  {
   "cell_type": "code",
   "execution_count": 1,
   "metadata": {},
   "outputs": [
    {
     "name": "stdout",
     "output_type": "stream",
     "text": [
      "Hi, My name is Kenny. My favorite food is Banana. My dream job is Data_Scienist.\n"
     ]
    }
   ],
   "source": [
    "# Write a multi-line comment with your name, favorite food, and dream job on 3 different lines.\n",
    "\n",
    "name = \"Kenny\"\n",
    "favorite_food = \"Banana\"\n",
    "dream_job = \"Data Scienist\"\n",
    "\n",
    "message = (\n",
    "    f\"Hi, My name is {name}. \"\n",
    "    f\"My favorite food is {favorite_food}. \"\n",
    "    f\"My dream job is {dream_job}.\"\n",
    ")\n",
    "print(message)\n",
    "\n"
   ]
  },
  {
   "cell_type": "code",
   "execution_count": 57,
   "metadata": {},
   "outputs": [
    {
     "name": "stdout",
     "output_type": "stream",
     "text": [
      "Kenny 33 New to Pythn! ['data analyst', 'data scienist', 'a paid-to-learn student']\n"
     ]
    },
    {
     "ename": "TypeError",
     "evalue": "unsupported operand type(s) for +: 'int' and 'str'",
     "output_type": "error",
     "traceback": [
      "\u001b[1;31m---------------------------------------------------------------------------\u001b[0m",
      "\u001b[1;31mTypeError\u001b[0m                                 Traceback (most recent call last)",
      "Cell \u001b[1;32mIn[57], line 10\u001b[0m\n\u001b[0;32m      8\u001b[0m job \u001b[39m=\u001b[39m [\u001b[39m\"\u001b[39m\u001b[39mdata analyst\u001b[39m\u001b[39m\"\u001b[39m, \u001b[39m\"\u001b[39m\u001b[39mdata scienist\u001b[39m\u001b[39m\"\u001b[39m, \u001b[39m\"\u001b[39m\u001b[39ma paid-to-learn student\u001b[39m\u001b[39m\"\u001b[39m]\n\u001b[0;32m      9\u001b[0m \u001b[39mprint\u001b[39m(name, age, st, job)\n\u001b[1;32m---> 10\u001b[0m txt \u001b[39m=\u001b[39m (\u001b[39m\"\u001b[39m\u001b[39ma1\u001b[39m\u001b[39m\"\u001b[39m \u001b[39m+\u001b[39m name \u001b[39m+\u001b[39m \u001b[39m\"\u001b[39m\u001b[39m,, 1\u001b[39m\u001b[39m\"\u001b[39m \u001b[39m+\u001b[39m st \u001b[39m+\u001b[39m \u001b[39m\"\u001b[39m\u001b[39m1\u001b[39m\u001b[39m\"\u001b[39m , job , age \u001b[39m+\u001b[39;49m name)\n\u001b[0;32m     11\u001b[0m \u001b[39mprint\u001b[39m(txt)\n",
      "\u001b[1;31mTypeError\u001b[0m: unsupported operand type(s) for +: 'int' and 'str'"
     ]
    }
   ],
   "source": [
    "# assign 5 different data types to 5 different variables. At least one datatype must be a string.\n",
    "\n",
    "\n",
    "\n",
    "name = \"Kenny\"\n",
    "age =  33\n",
    "st = str('New to Pythn!')\n",
    "job = [\"data analyst\", \"data scienist\", \"a paid-to-learn student\"]\n",
    "print(name, age, st, job)\n",
    "txt = (\"a1\" + name + \",, 1\" + st + \"1\" , job , age , name)\n",
    "print(txt)\n"
   ]
  },
  {
   "cell_type": "code",
   "execution_count": 22,
   "metadata": {},
   "outputs": [
    {
     "name": "stdout",
     "output_type": "stream",
     "text": [
      "My name is John, I am 36 years old.\n"
     ]
    }
   ],
   "source": [
    "name = \"John\"\n",
    "age = \"36\"\n",
    "txt = \"My name is \" + name + \", I am \" + age + \" years old.\"\n",
    "print(txt)"
   ]
  },
  {
   "cell_type": "code",
   "execution_count": 86,
   "metadata": {},
   "outputs": [
    {
     "name": "stdout",
     "output_type": "stream",
     "text": [
      "('My name is Kenny. I am ', 33.5, 'years old. and I am New to Python with less than ', 3, 'experience. Hopefully i can get these jobs', ['data analyst', 'data scienist', 'and a paid to learn student.'], 'after this bootcamp.')\n"
     ]
    }
   ],
   "source": [
    "name = \"Kenny\"\n",
    "exp = int(0.1)\n",
    "age = float(33.5)\n",
    "a = str('New to Python')\n",
    "job = [\"data analyst\", \"data scienist\", \"and a paid to learn student.\"]\n",
    "txt = \"My name is \" + name + \". I am \" , age ,  \"years old. and I am \" + a +  \" with less than \" , len(job) ,  \"experience. Hopefully i can get these jobs\" , job , \"after this bootcamp.\"\n",
    "print(txt)"
   ]
  },
  {
   "cell_type": "code",
   "execution_count": 16,
   "metadata": {},
   "outputs": [
    {
     "ename": "TypeError",
     "evalue": "can only concatenate str (not \"int\") to str",
     "output_type": "error",
     "traceback": [
      "\u001b[1;31m---------------------------------------------------------------------------\u001b[0m",
      "\u001b[1;31mTypeError\u001b[0m                                 Traceback (most recent call last)",
      "Cell \u001b[1;32mIn[16], line 7\u001b[0m\n\u001b[0;32m      4\u001b[0m a \u001b[39m=\u001b[39m \u001b[39mstr\u001b[39m(\u001b[39m'\u001b[39m\u001b[39mnew to Python\u001b[39m\u001b[39m'\u001b[39m)\n\u001b[0;32m      5\u001b[0m job \u001b[39m=\u001b[39m [\u001b[39m\"\u001b[39m\u001b[39mdata analyst\u001b[39m\u001b[39m\"\u001b[39m, \u001b[39m\"\u001b[39m\u001b[39mdata scienist\u001b[39m\u001b[39m\"\u001b[39m, \u001b[39m\"\u001b[39m\u001b[39mand a paid to learn student.\u001b[39m\u001b[39m\"\u001b[39m]\n\u001b[1;32m----> 7\u001b[0m txt \u001b[39m=\u001b[39m \u001b[39m\"\u001b[39;49m\u001b[39mMy name is\u001b[39;49m\u001b[39m\"\u001b[39;49m \u001b[39m+\u001b[39;49m name \u001b[39m+\u001b[39;49m \u001b[39m\"\u001b[39;49m\u001b[39m. I am \u001b[39;49m\u001b[39m\"\u001b[39;49m \u001b[39m+\u001b[39;49m age \u001b[39m+\u001b[39m \u001b[39m\"\u001b[39m\u001b[39myears old\u001b[39m\u001b[39m\"\u001b[39m \u001b[39m+\u001b[39m \u001b[39m\"\u001b[39m\u001b[39mand I am \u001b[39m\u001b[39m\"\u001b[39m \u001b[39m+\u001b[39m a \u001b[39m+\u001b[39m \u001b[39m\"\u001b[39m\u001b[39mwith\u001b[39m\u001b[39m\"\u001b[39m \u001b[39m+\u001b[39m exp \u001b[39m+\u001b[39m \u001b[39m\"\u001b[39m\u001b[39mexperience. Hopefully i can get these jobs\u001b[39m\u001b[39m\"\u001b[39m \u001b[39m+\u001b[39m job \u001b[39m+\u001b[39m \u001b[39m\"\u001b[39m\u001b[39mafter this bootcamp.\u001b[39m\u001b[39m\"\u001b[39m\n\u001b[0;32m      8\u001b[0m \u001b[39mprint\u001b[39m(txt)\n",
      "\u001b[1;31mTypeError\u001b[0m: can only concatenate str (not \"int\") to str"
     ]
    }
   ],
   "source": [
    "name = \"Kenny\"\n",
    "exp = int(0.1)\n",
    "age = int(1/2)\n",
    "a = str('new to Python')\n",
    "job = [\"data analyst\", \"data scienist\", \"and a paid to learn student.\"]\n",
    "\n",
    "txt = \"My name is\" + name + \". I am \" + age + \"years old\" + \"and I am \" + a + \"with\" + exp + \"experience. Hopefully i can get these jobs\" + job + \"after this bootcamp.\"\n",
    "print(txt)"
   ]
  }
 ],
 "metadata": {
  "kernelspec": {
   "display_name": "Python 3",
   "language": "python",
   "name": "python3"
  },
  "language_info": {
   "codemirror_mode": {
    "name": "ipython",
    "version": 3
   },
   "file_extension": ".py",
   "mimetype": "text/x-python",
   "name": "python",
   "nbconvert_exporter": "python",
   "pygments_lexer": "ipython3",
   "version": "3.11.1"
  },
  "orig_nbformat": 4,
  "vscode": {
   "interpreter": {
    "hash": "cf4dcdee48f25e171ca6f59bb5d8cb1d54533c1d0495b24909a7c8e52375d389"
   }
  }
 },
 "nbformat": 4,
 "nbformat_minor": 2
}
