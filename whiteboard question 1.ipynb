{
 "cells": [
  {
   "cell_type": "code",
   "execution_count": null,
   "metadata": {},
   "outputs": [],
   "source": [
    "# Question 1\n",
    "# Write a javascript function that takes in 2 integers and return their sum, \n",
    "# unless the 2 integers are equal. \n",
    "# if the two integers are equal, then return 3 times their sum.\n",
    "\n",
    "#sum2Integers(10,20)// --> 30\n",
    "#sum2Integers(10,20)// --> 60\n",
    "\n",
    "# we are going to assign 2 intergers a value of their own\n",
    "# then def and if statement for the sums of both of them\n",
    "# sum both intergers and return the results of the sum\n",
    "# if the sum of the 2 intergers are equal, return three times their sum\n",
    "# Code Testing and Debugging\n",
    "\n",
    "#x = int(input(\"give me 1st num\"))\n",
    "#y=int(input(\"give me 2nd num\"))\n",
    "\n",
    "def integer_sum(x, y):\n",
    "    sum = x + y\n",
    "    if x == y:\n",
    "        return sum * 3\n",
    "    else:\n",
    "        return sum\n",
    "\n",
    "\n",
    "finalSum = integer_sum(7,7)\n",
    "print(finalSum)"
   ]
  }
 ],
 "metadata": {
  "kernelspec": {
   "display_name": "Python 3",
   "language": "python",
   "name": "python3"
  },
  "language_info": {
   "name": "python",
   "version": "3.11.1"
  },
  "orig_nbformat": 4,
  "vscode": {
   "interpreter": {
    "hash": "cf4dcdee48f25e171ca6f59bb5d8cb1d54533c1d0495b24909a7c8e52375d389"
   }
  }
 },
 "nbformat": 4,
 "nbformat_minor": 2
}
