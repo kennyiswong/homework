{
 "cells": [
  {
   "attachments": {},
   "cell_type": "markdown",
   "metadata": {},
   "source": [
    "1. What does one need to do to use a module?\n",
    "    * <font color=green>Anytime you use a module, you must IMPORT it into your program.</font>\n",
    "1. Name a Module (not the DateTime Nodule) we looked at and write a line or 2 of code as an example using this module.\n",
    "    * <font color=green>math.ceil()\t#Rounds a number up to the nearest integer.</font>\n",
    "    * <font color=green>math.fabs()\t# Returns the absolute value of a number.</font>\n",
    "1. What is a benefit of using Exception handling?\n",
    "    * <font color=green>With this code device we can keep going past many errors.</font>\n",
    "1. NumPy arrays are like what Python data type?\n",
    "    * <font color=green>NumPy arrays are like lists in Python, arrays are an ordered sequence of elements. Both are also mutable and not fixed in size, which means iItems can be added and removed, making them very flexible to work with.</font>\n",
    "1. What is one of the main benefits of using NumPy arrays.\n",
    "    * <font color=green>Arrays are most useful when we must manipulate values of only one specific data type.</font>\n",
    "1. What is one of the main requirements about the 'dtype' of NumPy arrays?\n",
    "    * <font color=green>The default data type of a NumPy Array is floating point (np.float64).</font>\n",
    "1. Of the 10 uses of NumPy, name 2.\n",
    "    * <font color=green>np.nonzero() = used to count the number of nonzero elements present in array NumPy Count Nonzero Values in Python arrays\n",
    "np.view() = create new array object that looks at the same data as the original array.</font>\n",
    "1. Name one of the other libraries we'll use with NumPy?\n",
    "    * <font color=green>Matplotlib and Pandas.</font>\n",
    "1. What is the shape of NumPy arrays?\n",
    "    * <font color=green>The shape of an array can be defined as the number of elements in each dimension.</font>\n",
    "1. What is a Tensor?\n",
    "    * <font color=green>Tensor is an array with 3+ dimensions.</font>\n",
    "1. Name a reason why it's better using  NumPy for Data Analysis than using a Python List?\n",
    "    * <font color=green>NumPy arrays are faster and more compact than Python lists.</font>\n",
    "1. When creating an \"empty\" array, where do the elements come from?\n",
    "    * <font color=green>The function empty creates an array whose initial content is random and depends on the state of the memory.</font>"
   ]
  },
  {
   "cell_type": "code",
   "execution_count": 1,
   "metadata": {},
   "outputs": [
    {
     "name": "stdout",
     "output_type": "stream",
     "text": [
      "Current Date and Time ... 2023-02-13 17:18:01.912154\n",
      "Month ... February\n"
     ]
    }
   ],
   "source": [
    "#   1. Use the DateTime module to get Current Date and Time, and save it to a variable. Then extract just the Full month name form that variable.\n",
    "import datetime as dt\n",
    "# Get Current Date and Time\n",
    "a = dt.datetime.now()\n",
    "print(\"Current Date and Time ...\", a)\n",
    "print(\"Month ...\", a.strftime(\"%B\"))\n"
   ]
  },
  {
   "cell_type": "code",
   "execution_count": 39,
   "metadata": {},
   "outputs": [
    {
     "name": "stdout",
     "output_type": "stream",
     "text": [
      "Hi Kenny! Happy Sunday!\n",
      "Hi Kenny! Happy!\n",
      "The (2, 3, 2) array ...\n",
      " [[[ 0  1]\n",
      "  [ 2  3]\n",
      "  [ 4  5]]\n",
      "\n",
      " [[ 6  7]\n",
      "  [ 8  9]\n",
      "  [10 11]]]\n",
      "[ 0.  4.  8. 12. 16. 20.]\n",
      "[ 0.  4.  8. 12. 16. 20.]\n"
     ]
    }
   ],
   "source": [
    "#   2. Write a simple function that takes 2 parameters -- a  first name and a day name.\n",
    "#    - Set a default value for the day name of Sunday.\n",
    "def my_message(firstName, dayName):\n",
    "    print(\"Hi\", firstName +\"! Happy\"+ dayName +\"!\")     # - Have the function print out a greeting -- using the parameters -- that says something like \"Hi first-name! Happy day-name!\". Remember to use the variables in the greeting to replace first-name and day-name.  \n",
    "my_message(\"Kenny\", \" Sunday\")  # - Invoke this function with 2 variables.\n",
    "my_message(\"Kenny\", \"\") # - Invoke this function with 1 variable only.\n",
    "\n",
    "#   3. Import NumPy, use one of the NumPy methods and create an array with a shape of ... (2, 3, 2). You can use the  method -- `.reshape()`\n",
    "import numpy as np\n",
    "a232 = np.arange(12).reshape((2, 3, 2))\n",
    "print(\"The (2, 3, 2) array ...\\n\", a232)\n",
    "#(0.1)(0.1)(0.1) how?\n",
    "#(0.1)(0.1)(0.1)\n",
    "\n",
    "#   4. Use NumPy `.linspace()` to create an array with 6 linearly spaced values between 0 and 20\n",
    "\n",
    "ls = np.linspace(0, 20, num = 6)\n",
    "print(ls)\n",
    "\n",
    "#   5. Make a Deep Copy of the above array you created.\n",
    "import copy\n",
    "cy = copy.deepcopy(ls)\n",
    "print(cy)"
   ]
  },
  {
   "attachments": {},
   "cell_type": "markdown",
   "metadata": {},
   "source": [
    "6. What are 2 reasons we use NumPy arrays over Python Lists\n",
    "* NumPy arrays occupy less memory and are fast compared to lists"
   ]
  }
 ],
 "metadata": {
  "kernelspec": {
   "display_name": "Python 3",
   "language": "python",
   "name": "python3"
  },
  "language_info": {
   "codemirror_mode": {
    "name": "ipython",
    "version": 3
   },
   "file_extension": ".py",
   "mimetype": "text/x-python",
   "name": "python",
   "nbconvert_exporter": "python",
   "pygments_lexer": "ipython3",
   "version": "3.11.1"
  },
  "orig_nbformat": 4,
  "vscode": {
   "interpreter": {
    "hash": "cf4dcdee48f25e171ca6f59bb5d8cb1d54533c1d0495b24909a7c8e52375d389"
   }
  }
 },
 "nbformat": 4,
 "nbformat_minor": 2
}
