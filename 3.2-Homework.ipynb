{
 "cells": [
  {
   "attachments": {},
   "cell_type": "markdown",
   "metadata": {},
   "source": [
    "# 3.2 Python Homework\n",
    "\n",
    "## Advanced / Compound Data Types\n",
    "\n",
    "1. Create a file and name it 3.2-Homework (this can be a Python file or a Jupyter Notebook file)\n",
    "\n",
    "<br>\n",
    "\n",
    "2. Create a list of at least 5 elements of mixed data types\n",
    "    - replace a part of it with something else\n",
    "    - append or insert several more items to the list\n",
    "    - find and print the length of the list\n",
    "    - slice a sub-section of the 1st list, and save it to a different 2nd list\n",
    "    - print the 2nd list\n",
    "    - extend your original list with the 2nd list sliced above\n",
    "    - Create a new list called \"simList\" containing at least 5 elements of the same data type, either string, integer, float, or Boolean.\n",
    "    - sort \"simList\", and print the list\n",
    "    - copy the \"simList\" list to another 3rd list\n",
    "    - add the 2nd and 3rd lists together into a 4th list\n",
    "\n",
    "<br>\n",
    "\n",
    "3. Create a tuple of about 5 elements\n",
    "    - multiply your tuple by 3 and save it to a new 2nd tuple\n",
    "    - access and print the 12th element from the 2nd tuple\n",
    "    - sort the 2nd tuple and print it\n",
    "    - copy 4 specific elements from your 2nd tuple to a new 3nd tuple\n",
    "    - unpack the 3rd tuple into 4 variables and print these variables\n",
    "    - create a 4th tuple with single item 50 and print this tuple\n",
    "    - add the 2nd and 3rd tuple together into a 5th tuple and print the tuple\n",
    "\n",
    "<br>\n",
    "\n",
    "4. Create a set of about 3 elements\n",
    "    - add a list of fruits to the above set and print the result\n",
    "    - add a car element to your set\n",
    "    - create a 2nd set with a few odd items\n",
    "    - save the union of 1st set and 2nd set to a 3rd set\n",
    "    - pop an element from the 2nd set, and print the remainder of the set\n",
    "    - clear the 1st set and print the result\n",
    "    - discard an element, and remove another element from the 3rd set\n",
    "    - print the remainder of the 3rd set\n",
    "\n",
    "<br>\n",
    "\n",
    "5. Create a dictionary with at least 5 values of different data types\n",
    "    - print out 1 value\n",
    "    - replace any one value in your dictionary with your name\n",
    "    - add your favorite color to the dictionary\n",
    "    - add a list, tuple or set to your dictionary\n",
    "    - print a list of the dictionary keys\n",
    "    - print a list of the dictionary values\n",
    "    - copy your 1st dictionary into a 2nd dictionary\n",
    "    - pop an item from the 2nd dictionary, and print the dictionary\n",
    "    - remove all the elements from the 2nd dictionary and print the result\n",
    "\n",
    "<br>\n",
    "\n",
    "6. Save your file in your homework folder, and push it to GitHub.\n",
    "    - Once you have completed all your homework for the week, create a ticket to let the TAs know you have completed it.\n",
    "    - Remember to add the link to you homework, to the ticket.\n",
    "\n",
    "<br>\n",
    "\n",
    "## When done with homework\n",
    "\n",
    "When homework has been completed, do the following...\n",
    "\n",
    "- Make sure your homework file is well named\n",
    "- Add the homework to your Homework folder\n",
    "- Use  git add, git commit, and git push to upload your homework changes to GitHub in the cloud\n",
    "- When all you homework has been completed, create a ticket in Jira to indicate that your Homework is ready for review\n"
   ]
  },
  {
   "cell_type": "code",
   "execution_count": 1,
   "metadata": {},
   "outputs": [
    {
     "name": "stdout",
     "output_type": "stream",
     "text": [
      "original list ..: ['First element', 'blackberry', 'watermelon', False]\n",
      "New appended list ..  ['First element', 'blackberry', 'watermelon', False, 'orange']\n",
      "\n",
      "inserted list ..  ['First element', 'blackberry', 'watermelon', 'Bananana', False, 'orange']\n",
      "The length of the list .. 6\n",
      "sub-section of the 1st list.. ['First element', 'blackberry', 'watermelon', 'Bananana', False, 'orange']\n",
      "list2 is .. ['blackberry', 'watermelon', 'Bananana']\n",
      "List.. ['First element', 'blackberry', 'watermelon', 'Bananana', False, 'orange']\n",
      "List2 .. ['blackberry', 'watermelon', 'Bananana']\n",
      "Extended firstList with list2:  None\n",
      "['cat', 'bird', 'lion', 'monkey', 'eagle']\n",
      "['bird', 'cat', 'eagle', 'lion', 'monkey']\n",
      "[1, 2, 3, 4, 'bird', 'cat', 'eagle', 'lion', 'monkey']\n",
      "['blackberry', 'watermelon', 'Bananana', 1, 2, 3, 4, 'bird', 'cat', 'eagle', 'lion', 'monkey']\n"
     ]
    }
   ],
   "source": [
    "#Create a list of at least 5 elements of mixed data types\n",
    "List = [\"First element\", 2, 3.0,  [1,2,3,4], {\"5\" : \"6\"}, False ]\n",
    "#replace a part of it with something else\n",
    "List[1:5] = [\"blackberry\", \"watermelon\"]\n",
    "print(\"original list ..:\", List)\n",
    "#append or insert several more items to the list\n",
    "List.append(\"orange\")\n",
    "print(\"New appended list .. \", List)\n",
    "List.insert(3, \"Bananana\" )\n",
    "print(\"\\ninserted list .. \", List)\n",
    "\n",
    "#find and print the length of the list\n",
    "print(\"The length of the list ..\", len(List))\n",
    "\n",
    "#slice a sub-section of the 1st list, and save it to a different 2nd list\n",
    "print(\"sub-section of the 1st list..\", List)\n",
    "list2 = List[1:4]\n",
    "\n",
    "\n",
    "#print the 2nd list\n",
    "print(\"list2 is ..\", list2)\n",
    "\n",
    "#extend your original list with the 2nd list sliced above\n",
    "print(\"List..\",List)\n",
    "print(\"List2 ..\",list2)\n",
    "newlist = List.extend(list2)\n",
    "print(\"Extended firstList with list2: \", newlist)\n",
    "\n",
    "#Create a new list called \"simList\" containing at least 5 elements of the same data type, either string, integer, float, or Boolean.\n",
    "simList =[\"cat\", \"bird\", \"lion\", \"monkey\", \"eagle\"]\n",
    "print(simList)\n",
    "\n",
    "#sort \"simList\", and print the list\n",
    "simList.sort()\n",
    "print(simList)\n",
    "\n",
    "#copy the \"simList\" list to another 3rd list\n",
    "list3 = [1,2,3,4] + simList\n",
    "print(list3)\n",
    "\n",
    "#add the 2nd and 3rd lists together into a 4th list\n",
    "list4 = list2 + list3\n",
    "print(list4)"
   ]
  },
  {
   "cell_type": "code",
   "execution_count": 25,
   "metadata": {},
   "outputs": [
    {
     "name": "stdout",
     "output_type": "stream",
     "text": [
      "(1, 2, 3, 4, 5)\n",
      "tup2 ... (1, 2, 3, 4, 5, 1, 2, 3, 4, 5, 1, 2, 3, 4, 5)\n",
      "2\n",
      "tup2 sorted ...  [1, 1, 1, 2, 2, 2, 3, 3, 3, 4, 4, 4, 5, 5, 5]\n",
      "(3, 4, 5, 1)\n",
      "3 4 5 1\n",
      "50\n",
      "(1, 2, 3, 4, 5, 1, 2, 3, 4, 5, 1, 2, 3, 4, 5, 3, 4, 5, 1)\n"
     ]
    }
   ],
   "source": [
    "#Create a tuple of about 5 elements\n",
    "tup1 = (1, 2, 3, 4, 5)\n",
    "print(tup1)\n",
    "\n",
    "#- multiply your tuple by 3 and save it to a new 2nd tuple\n",
    " \n",
    "tup2 = tup1 * 3\n",
    "print(\"tup2 ...\", tup2)\n",
    "\n",
    "#- access and print the 12th element from the 2nd tuple\n",
    "print(tup2[11])\n",
    "\n",
    "#- sort the 2nd tuple and print it\n",
    "print(\"tup2 sorted ... \", sorted(tup2))\n",
    "\n",
    "#- copy 4 specific elements from your 2nd tuple to a new 3nd tuple\n",
    "tup3 = tup2[2:6]\n",
    "print(tup3)\n",
    "\n",
    "#- unpack the 3rd tuple into 4 variables and print these variables\n",
    "print(tup3[0], tup3[1], tup3[2], tup3[3])\n",
    "\n",
    "#- create a 4th tuple with single item 50 and print this tuple\n",
    "tup4 = (50)\n",
    "print(tup4)\n",
    "\n",
    "#- add the 2nd and 3rd tuple together into a 5th tuple and print the tuple\n",
    "tup5 = tup2 + tup3\n",
    "print(tup5)"
   ]
  },
  {
   "cell_type": "code",
   "execution_count": 23,
   "metadata": {},
   "outputs": [
    {
     "name": "stdout",
     "output_type": "stream",
     "text": [
      "{'Brand&model': 'Toyota Prius', 'electric': True, 'Stolen parts': ['converter', 'O2 sensor', 'resonator'], 'repair cost$': 3500, 'part waiting time in year': 0.5}\n",
      "['converter', 'O2 sensor', 'resonator']\n",
      "{'Brand&model': 'Toyota Prius', 'electric': True, 'Stolen parts': ['converter', 'O2 sensor', 'resonator'], 'repair cost$': 'too much', 'part waiting time in year': 0.5}\n",
      "{'Brand&model': 'Toyota Prius', 'electric': True, 'Stolen parts': ['converter', 'O2 sensor', 'resonator'], 'repair cost$': 'too much', 'part waiting time in year': 0.5, 'color': 'teal'}\n"
     ]
    }
   ],
   "source": [
    "#Create a dictionary with at least 5 values of different data types\n",
    "dict1= {\n",
    "   \n",
    "   \"Brand&model\": \"Toyota Prius\",\n",
    "    \"electric\": True,\n",
    "    \"Stolen parts\": [\"converter\", \"O2 sensor\", \"resonator\"],\n",
    "    \"repair cost$\": 3500,\n",
    "    \"part waiting time in year\": 0.5,}\n",
    "    \n",
    "print(dict1)\n",
    "\n",
    "#    - print out 1 value\n",
    "print(dict1.get(\"Stolen parts\"))\n",
    "\n",
    "#    - replace any one value in your dictionary with your name\n",
    "\n",
    "dict1[\"repair cost$\"] = \"too much\" \n",
    "print(dict1)\n",
    "\n",
    "#    - add your favorite color to the dictionary\n",
    "dict1.update({\"color\": \"teal\"})\n",
    "print(dict1)\n",
    "\n",
    "#    - add a list, tuple or set to your dictionary\n",
    "dict1= {\n",
    "   \n",
    "   \"Brand&model\": \"Toyota Prius\",\n",
    "    \"electric\": True,\n",
    "    \"Stolen parts\": [\"converter\", \"O2 sensor\", \"resonator\"],\n",
    "    \"repair cost$\": [],\n",
    "    \"part waiting time in year\": 0.5,}\n",
    "    \n",
    "dict1[\"repair cost$\"] += [3000, \"3k\"]\n",
    "print(dict1)\n",
    "#    - print a list of the dictionary keys\n",
    "#    - print a list of the dictionary values\n",
    "#    - copy your 1st dictionary into a 2nd dictionary\n",
    "#    - pop an item from the 2nd dictionary, and print the dictionary\n",
    "#    - remove all the elements from the 2nd dictionary and print the result"
   ]
  },
  {
   "cell_type": "code",
   "execution_count": 29,
   "metadata": {},
   "outputs": [
    {
     "name": "stdout",
     "output_type": "stream",
     "text": [
      "{'Brand&model': 'Toyota Prius', 'electric': True, 'Stolen parts': ['converter', 'O2 sensor', 'resonator'], 'repair cost$': [3000, '3k'], 'part waiting time in year': 0.5}\n"
     ]
    }
   ],
   "source": [
    "\n",
    "dict1= {\n",
    "   \n",
    "   \"Brand&model\": \"Toyota Prius\",\n",
    "    \"electric\": True,\n",
    "    \"Stolen parts\": [\"converter\", \"O2 sensor\", \"resonator\"],\n",
    "    \"repair cost$\": [],\n",
    "    \"part waiting time in year\": 0.5,}\n",
    "    \n",
    "dict1[\"repair cost$\"] += [3000, \"3k\"]\n",
    "print(dict1)"
   ]
  },
  {
   "cell_type": "code",
   "execution_count": 38,
   "metadata": {},
   "outputs": [
    {
     "name": "stdout",
     "output_type": "stream",
     "text": [
      "3\n",
      "{'name': 'Dionysia', 'age': 28, 'location': 'Athens'}\n"
     ]
    }
   ],
   "source": [
    "#create a dictionary\n",
    "my_information = {'name': 'Dionysia', 'age': 28, 'location': 'Athens'}\n",
    "print(len(my_information))\n",
    "print(my_information)"
   ]
  }
 ],
 "metadata": {
  "kernelspec": {
   "display_name": "Python 3",
   "language": "python",
   "name": "python3"
  },
  "language_info": {
   "codemirror_mode": {
    "name": "ipython",
    "version": 3
   },
   "file_extension": ".py",
   "mimetype": "text/x-python",
   "name": "python",
   "nbconvert_exporter": "python",
   "pygments_lexer": "ipython3",
   "version": "3.11.1"
  },
  "orig_nbformat": 4,
  "vscode": {
   "interpreter": {
    "hash": "cf4dcdee48f25e171ca6f59bb5d8cb1d54533c1d0495b24909a7c8e52375d389"
   }
  }
 },
 "nbformat": 4,
 "nbformat_minor": 2
}
