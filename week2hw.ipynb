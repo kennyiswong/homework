{
 "cells": [
  {
   "attachments": {},
   "cell_type": "markdown",
   "metadata": {},
   "source": [
    "  1. What kind of language is Python considered?\n",
    "\n",
    "\n",
    "      * <font color=green>Python is a highly versatile, general-purpose, object-oriented programming language that can be used for small and complex tasks such as: backend development, software development, data science, and writing system scripts (automation) across many different industries.</font>\n",
    "\n",
    "  1. What’s a natural language?\n",
    "\n",
    "      * <font color=green>Natural Languages are mostly spoken languages that form on their own. Slang is a great example of a natural language.</font>\n",
    "\n",
    "  1. Is Python a Natural or a Formal language?\n",
    "\n",
    "      * <font color=green>Python is formal language designed by people. There are formal rules about grammar, syntax, and punctuation.</font>\n",
    "\n",
    "  1. What are Algorithms?\n",
    "\n",
    "      * <font color=green>An algorithm is a series of steps to solve a problem at hand.</font>\n",
    "\n",
    "  1. Why is Python considered to be a high-level language?\n",
    "\n",
    "      * <font color=green>Because Python takes less time to write, they are shorter and easier to read, and they are more likely to be correct/error free when we run them.</font>\n",
    "\n",
    "  1. What is a Semantic error?\n",
    "\n",
    "      * <font color=green>Code is grammatically correct but doesn't make any sense; it does not produce the expected results.</font>\n",
    "\n",
    "  1. What is the #1 rule of coding / debugging\n",
    "\n",
    "      * <font color=green>The #1 Rule: Complexity is the enemy of efficiency!</font>"
   ]
  },
  {
   "cell_type": "code",
   "execution_count": 4,
   "metadata": {},
   "outputs": [
    {
     "name": "stdout",
     "output_type": "stream",
     "text": [
      "Hello World!\n"
     ]
    }
   ],
   "source": [
    "print(\"Hello World!\")"
   ]
  }
 ],
 "metadata": {
  "kernelspec": {
   "display_name": "Python 3",
   "language": "python",
   "name": "python3"
  },
  "language_info": {
   "codemirror_mode": {
    "name": "ipython",
    "version": 3
   },
   "file_extension": ".py",
   "mimetype": "text/x-python",
   "name": "python",
   "nbconvert_exporter": "python",
   "pygments_lexer": "ipython3",
   "version": "3.11.1"
  },
  "orig_nbformat": 4,
  "vscode": {
   "interpreter": {
    "hash": "cf4dcdee48f25e171ca6f59bb5d8cb1d54533c1d0495b24909a7c8e52375d389"
   }
  }
 },
 "nbformat": 4,
 "nbformat_minor": 2
}
