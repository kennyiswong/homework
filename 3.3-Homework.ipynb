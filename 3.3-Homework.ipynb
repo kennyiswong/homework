{
 "cells": [
  {
   "attachments": {},
   "cell_type": "markdown",
   "metadata": {},
   "source": [
    "# 3.3 Python Homework\n",
    "\n",
    "## Flow Control Methods\n",
    "\n",
    "Create a file and name it 3.3-Homework (this can be a Python file or a Jupyter Notebook file)\n",
    "\n",
    "1. Create an if statement: if 'age' is greater than or equal to 25, print \"Renting a car is more affordable\", however if 'age' is less than 25, print \"Renting a car is very expensive.\"\n",
    "\n",
    "2. Create and chain an if-else  statement: if 'age' is greater than or equal to 25, print \"Renting a car is more affordable.\" If 'age' is less than 25 but greater than or equal to 18, print \"Renting a car is very expensive.\" Finally, if age is less than 18, print \"You cannot legally rent a car.\"\n",
    "\n",
    "3. Loop over the following string to (1) count all the characters in the string and (2) print out all the vowels -- \"The quick brown fox jumps over the lazy dog\"\n",
    "\n",
    "4. Write a nested loop that prints out every piece of clothing from the `couture` list, in every fashionable color from the `panettone` set: couture = [\"trousers\", \"blouse\", \"bandana\", \"cumber band\", \"blazer\", \"vest\", \"french beret\", \"scarf\", \"stole\"] and panettone = {\"cerise\", \"fuchsia\", \"aqua\", \"maple\", \"auburn\", \"burnt sienna\", \"gunmetal blue\", \"Dark Sapphire\"}\n",
    "\n",
    "5. Use range as a loop to calculate the sum of all the numbers from 1 to 100\n",
    "\n",
    "6. Print the second item in this fruits list.\n",
    "    [\"apple\", \"banana\", \"cherry\"]\n",
    "\n",
    "7. Change the value from \"apple\" to \"kiwi\", in the fruits list.\n",
    "    [\"apple\", \"banana\", \"cherry\"]\n",
    "\n",
    "8. Use the append method to add \"orange\" to the fruits list.\n",
    "    [\"apple\", \"banana\", \"cherry\"]\n",
    "\n",
    "9. Use the insert method to add \"lemon\" as the second item in the fruits list.\n",
    "    [\"apple\", \"banana\", \"cherry\"]\n",
    "\n",
    "10. Use the remove method to remove \"banana\" from the fruits list.\n",
    "    [\"apple\", \"banana\", \"cherry\"]\n",
    "\n",
    "11. Use negative indexing to print the 3rd and 2nd to last items in the list.\n",
    "    [\"apple\", \"banana\", \"cherry\", \"orange\", \"kiwi\", \"melon\", \"mango\"]\n",
    "\n",
    "12. Use a range of indexes to print the third, fourth, and fifth item in the list.\n",
    "    [\"apple\", \"banana\", \"cherry\", \"orange\", \"kiwi\", \"melon\", \"mango\"]\n",
    "\n",
    "13. Use the correct syntax to print the number of items in the list.\n",
    "    [\"apple\", \"banana\", \"cherry\", \"orange\", \"kiwi\", \"melon\", \"mango\"]\n",
    "\n",
    "14. Use the correct syntax to sort this list in reverse order\n",
    "    [\"apple\", \"banana\", \"cherry\", \"orange\", \"kiwi\", \"melon\", \"mango\"]\n",
    "\n",
    "<br>\n",
    "\n",
    "## When done with homework\n",
    "\n",
    "When homework has been completed, do the following...\n",
    "\n",
    "- Make sure your homework file is well named\n",
    "- Add the homework to your Homework folder\n",
    "- Use  git add, git commit, and git push to upload your homework changes to GitHub in the cloud\n",
    "- When all you homework has been completed, create a ticket in Jira to indicate that your Homework is ready for review\n"
   ]
  },
  {
   "cell_type": "code",
   "execution_count": 1,
   "metadata": {},
   "outputs": [
    {
     "name": "stdout",
     "output_type": "stream",
     "text": [
      "Renting a car is very expensive.\n"
     ]
    }
   ],
   "source": [
    "#Create a file and name it 3.3-Homework (this can be a Python file or a Jupyter Notebook file)\n",
    "\n",
    "#Create an if statement: if 'age' is greater than or equal to 25, print \"Renting a car is more affordable\", however if 'age' is less than 25, print \"Renting a car is very expensive.\"\n",
    "\n",
    "age = int(input(\"What is your age?\"))\n",
    " \n",
    "if age >= 25 :\n",
    "    print(\"Renting a car is more affordable\")\n",
    "if age < 25 :\n",
    "    print(\"Renting a car is very expensive.\")"
   ]
  },
  {
   "cell_type": "code",
   "execution_count": 2,
   "metadata": {},
   "outputs": [
    {
     "name": "stdout",
     "output_type": "stream",
     "text": [
      "You cannot legally rent a car.\n"
     ]
    }
   ],
   "source": [
    "# Create and chain an if-else statement: if 'age' is greater than or equal to 25, print \"Renting a car is more affordable.\" If 'age' is less than 25 but greater than or equal to 18, print \"Renting a car is very expensive.\" Finally, if age is less than 18, print \"You cannot legally rent a car.\"\n",
    "\n",
    "age = int(input(\"What is your age?\"))\n",
    "\n",
    "if age >= 25 :\n",
    "    print(\"Renting a car is more affordable\")\n",
    "if (age < 25 and age >= 18):\n",
    "    print(\"Renting a car is very expensive.\")\n",
    "else:\n",
    "   print(\"You cannot legally rent a car.\")"
   ]
  },
  {
   "cell_type": "code",
   "execution_count": 3,
   "metadata": {},
   "outputs": [
    {
     "name": "stdout",
     "output_type": "stream",
     "text": [
      "35\n",
      "['e', 'u', 'i', 'o', 'o', 'u', 'o', 'e', 'e', 'a', 'o']\n"
     ]
    }
   ],
   "source": [
    "    \n",
    "#Loop over the following string to (1) count all the characters in the string and \n",
    "#(2) print out all the vowels -- \"The quick brown fox jumps over the lazy dog\"\n",
    "\n",
    "string = \"The quick brown fox jumps over the lazy dog\"\n",
    "count=len([char for char in string if char not in \" \"])\n",
    "print(count)\n",
    "vowels=[char for char in string if char in \"aeiouAEIOU\"]\n",
    "print(vowels)"
   ]
  },
  {
   "cell_type": "code",
   "execution_count": 4,
   "metadata": {},
   "outputs": [
    {
     "name": "stdout",
     "output_type": "stream",
     "text": [
      "trousers aqua\n",
      "trousers auburn\n",
      "trousers gunmetal blue\n",
      "trousers maple\n",
      "trousers cerise\n",
      "trousers fuchsia\n",
      "trousers Dark Sapphire\n",
      "trousers burnt sienna\n",
      "blouse aqua\n",
      "blouse auburn\n",
      "blouse gunmetal blue\n",
      "blouse maple\n",
      "blouse cerise\n",
      "blouse fuchsia\n",
      "blouse Dark Sapphire\n",
      "blouse burnt sienna\n",
      "bandana aqua\n",
      "bandana auburn\n",
      "bandana gunmetal blue\n",
      "bandana maple\n",
      "bandana cerise\n",
      "bandana fuchsia\n",
      "bandana Dark Sapphire\n",
      "bandana burnt sienna\n",
      "cumber band aqua\n",
      "cumber band auburn\n",
      "cumber band gunmetal blue\n",
      "cumber band maple\n",
      "cumber band cerise\n",
      "cumber band fuchsia\n",
      "cumber band Dark Sapphire\n",
      "cumber band burnt sienna\n",
      "blazer aqua\n",
      "blazer auburn\n",
      "blazer gunmetal blue\n",
      "blazer maple\n",
      "blazer cerise\n",
      "blazer fuchsia\n",
      "blazer Dark Sapphire\n",
      "blazer burnt sienna\n",
      "vest aqua\n",
      "vest auburn\n",
      "vest gunmetal blue\n",
      "vest maple\n",
      "vest cerise\n",
      "vest fuchsia\n",
      "vest Dark Sapphire\n",
      "vest burnt sienna\n",
      "french beret aqua\n",
      "french beret auburn\n",
      "french beret gunmetal blue\n",
      "french beret maple\n",
      "french beret cerise\n",
      "french beret fuchsia\n",
      "french beret Dark Sapphire\n",
      "french beret burnt sienna\n",
      "scarf aqua\n",
      "scarf auburn\n",
      "scarf gunmetal blue\n",
      "scarf maple\n",
      "scarf cerise\n",
      "scarf fuchsia\n",
      "scarf Dark Sapphire\n",
      "scarf burnt sienna\n",
      "stole aqua\n",
      "stole auburn\n",
      "stole gunmetal blue\n",
      "stole maple\n",
      "stole cerise\n",
      "stole fuchsia\n",
      "stole Dark Sapphire\n",
      "stole burnt sienna\n"
     ]
    }
   ],
   "source": [
    "#Write a nested loop that prints out every piece of clothing from the couture list, in every fashionable color from the panettone set: couture = [\"trousers\", \"blouse\", \"bandana\", \"cumber band\", \"blazer\", \"vest\", \"french beret\", \"scarf\", \"stole\"] and panettone = {\"cerise\", \"fuchsia\", \"aqua\", \"maple\", \"auburn\", \"burnt sienna\", \"gunmetal blue\", \"Dark Sapphire\"}\n",
    "\n",
    "couture = [\"trousers\", \"blouse\", \"bandana\", \"cumber band\", \"blazer\", \"vest\", \"french beret\", \"scarf\", \"stole\"] \n",
    "panettone = {\"cerise\", \"fuchsia\", \"aqua\", \"maple\", \"auburn\", \"burnt sienna\", \"gunmetal blue\", \"Dark Sapphire\"}\n",
    "\n",
    "for x in couture:\n",
    "\tfor y in panettone:\n",
    "\t\tprint(x,y) "
   ]
  },
  {
   "cell_type": "code",
   "execution_count": 5,
   "metadata": {},
   "outputs": [
    {
     "name": "stdout",
     "output_type": "stream",
     "text": [
      "5050\n"
     ]
    }
   ],
   "source": [
    "\n",
    "#Use range as a loop to calculate the sum of all the numbers from 1 to 100\n",
    "\n",
    "sum = 0                     # start with \"sum\" at 0\n",
    "i = 0                       # and \"i\" at 0  \n",
    "for i in range (1,101):     # make \"i\" go from 1 to 100 while doing the rest\n",
    "   sum = sum + i           # increase \"sum\" by the value of \"i\"\n",
    "print(sum)                  # print out what \"sum\" is at each step\n"
   ]
  },
  {
   "cell_type": "code",
   "execution_count": 26,
   "metadata": {},
   "outputs": [
    {
     "name": "stdout",
     "output_type": "stream",
     "text": [
      "1, ['apple', 'banana', 'cherry']\n",
      "   second item .. banana\n",
      "2, 1st fruit replaced ...  ['kiwi', 'banana', 'cherry']\n",
      "3, appended list ..  ['apple', 'banana', 'cherry', 'orange']\n",
      "4, inserted list ..  ['apple', 'lemon', 'banana', 'cherry']\n",
      "5, removed list ..   ['apple', 'cherry']\n",
      "6, ['apple', 'banana', 'cherry', 'orange', 'kiwi', 'melon', 'mango']\n",
      "   3rd and 2nd to last items in the list ..   ['kiwi', 'melon']\n",
      "7, third, fourth, and fifth item in the list ..   ['cherry', 'orange', 'kiwi']\n",
      "8, number of items in the list ..   7\n",
      "9, Sort1 -  ['orange', 'melon', 'mango', 'kiwi', 'cherry', 'banana', 'apple']\n"
     ]
    }
   ],
   "source": [
    "#Print the second item in this fruits list. [\"apple\", \"banana\", \"cherry\"]\n",
    "fruitslist= [\"apple\", \"banana\", \"cherry\"]\n",
    "print(\"1,\", fruitslist)\n",
    "print(\"   second item ..\" , fruitslist[1])\n",
    "\n",
    "#Change the value from \"apple\" to \"kiwi\", in the fruits list. [\"apple\", \"banana\", \"cherry\"]\n",
    "fruitslist[0] = \"kiwi\"\n",
    "print(\"2, 1st fruit replaced ... \", fruitslist)\n",
    "\n",
    "#Use the append method to add \"orange\" to the fruits list. [\"apple\", \"banana\", \"cherry\"]\n",
    "fruitslist= [\"apple\", \"banana\", \"cherry\"]\n",
    "fruitslist.append(\"orange\")\n",
    "print(\"3, appended list .. \", fruitslist)\n",
    "\n",
    "\n",
    "#Use the insert method to add \"lemon\" as the second item in the fruits list. [\"apple\", \"banana\", \"cherry\"]\n",
    "fruitslist= [\"apple\", \"banana\", \"cherry\"]\n",
    "fruitslist.insert(1, \"lemon\" )\n",
    "print(\"4, inserted list .. \", fruitslist)\n",
    "\n",
    "#Use the remove method to remove \"banana\" from the fruits list. [\"apple\", \"banana\", \"cherry\"]\n",
    "fruitslist= [\"apple\", \"banana\", \"cherry\"]\n",
    "fruitslist.remove(\"banana\")\n",
    "print(\"5, removed list ..  \", fruitslist)\n",
    "\n",
    "#Use negative indexing to print the 3rd and 2nd to last items in the list. [\"apple\", \"banana\", \"cherry\", \"orange\", \"kiwi\", \"melon\", \"mango\"]\n",
    "fruitslist= [\"apple\", \"banana\", \"cherry\", \"orange\", \"kiwi\", \"melon\", \"mango\"]\n",
    "print(\"6,\", fruitslist)\n",
    "print(\"   3rd and 2nd to last items in the list ..  \", fruitslist[-3:-1])\n",
    "\n",
    "#Use a range of indexes to print the third, fourth, and fifth item in the list. [\"apple\", \"banana\", \"cherry\", \"orange\", \"kiwi\", \"melon\", \"mango\"]\n",
    "fruitslist= [\"apple\", \"banana\", \"cherry\", \"orange\", \"kiwi\", \"melon\", \"mango\"]\n",
    "print(\"7, third, fourth, and fifth item in the list ..  \", fruitslist[2:5])\n",
    "\n",
    "#Use the correct syntax to print the number of items in the list. [\"apple\", \"banana\", \"cherry\", \"orange\", \"kiwi\", \"melon\", \"mango\"]\n",
    "fruitslist= [\"apple\", \"banana\", \"cherry\", \"orange\", \"kiwi\", \"melon\", \"mango\"]\n",
    "print(\"8, number of items in the list ..  \", len(fruitslist))\n",
    "\n",
    "#Use the correct syntax to sort this list in reverse order [\"apple\", \"banana\", \"cherry\", \"orange\", \"kiwi\", \"melon\", \"mango\"]\n",
    "fruitslist= [\"apple\", \"banana\", \"cherry\", \"orange\", \"kiwi\", \"melon\", \"mango\"]\n",
    "fruitslist.sort(reverse=True)\n",
    "print(\"9, Sort1 - \", fruitslist)\n",
    "\n",
    "\n"
   ]
  }
 ],
 "metadata": {
  "kernelspec": {
   "display_name": "Python 3",
   "language": "python",
   "name": "python3"
  },
  "language_info": {
   "codemirror_mode": {
    "name": "ipython",
    "version": 3
   },
   "file_extension": ".py",
   "mimetype": "text/x-python",
   "name": "python",
   "nbconvert_exporter": "python",
   "pygments_lexer": "ipython3",
   "version": "3.11.1"
  },
  "orig_nbformat": 4,
  "vscode": {
   "interpreter": {
    "hash": "cf4dcdee48f25e171ca6f59bb5d8cb1d54533c1d0495b24909a7c8e52375d389"
   }
  }
 },
 "nbformat": 4,
 "nbformat_minor": 2
}
